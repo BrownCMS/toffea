{
 "cells": [
  {
   "cell_type": "code",
   "execution_count": 11,
   "metadata": {},
   "outputs": [
    {
     "data": {
      "text/plain": [
       "'1'"
      ]
     },
     "metadata": {},
     "output_type": "display_data"
    },
    {
     "data": {
      "text/plain": [
       "{'total_events': defaultdict_accumulator(int,\n",
       "                         {'SingleMuon_Run2018D': 185575112,\n",
       "                          'SingleMuon_Run2018C': 39945467}),\n",
       " 'mjjj': <Hist (dataset,selection,mjjj) instance at 0x7fe895dca890>,\n",
       " 'm01': <Hist (dataset,selection,m01) instance at 0x7fe895fa4b50>,\n",
       " 'dR01': <Hist (dataset,selection,dR01) instance at 0x7fe895fa4890>,\n",
       " 'dEta01': <Hist (dataset,selection,dEta01) instance at 0x7fe895fa4ed0>,\n",
       " 'm01overM': <Hist (dataset,selection,m01overM) instance at 0x7fe895ff75d0>,\n",
       " 'm12': <Hist (dataset,selection,m12) instance at 0x7fe895ff7a90>,\n",
       " 'dR12': <Hist (dataset,selection,dR12) instance at 0x7fe895ff79d0>,\n",
       " 'dEta12': <Hist (dataset,selection,dEta12) instance at 0x7fe895f29050>,\n",
       " 'm12overM': <Hist (dataset,selection,m12overM) instance at 0x7fe895fca490>,\n",
       " 'm20': <Hist (dataset,selection,m20) instance at 0x7fe895fca250>,\n",
       " 'dR20': <Hist (dataset,selection,dR20) instance at 0x7fe895fca4d0>,\n",
       " 'dEta20': <Hist (dataset,selection,dEta20) instance at 0x7fe895fca790>,\n",
       " 'm20overM': <Hist (dataset,selection,m20overM) instance at 0x7fe895fca510>,\n",
       " 'pt0': <Hist (dataset,selection,pt0) instance at 0x7fe895f14050>,\n",
       " 'eta0': <Hist (dataset,selection,eta0) instance at 0x7fe895f14f50>,\n",
       " 'ptoverM0': <Hist (dataset,selection,ptoverM0) instance at 0x7fe895f14fd0>,\n",
       " 'pt1': <Hist (dataset,selection,pt1) instance at 0x7fe895f14610>,\n",
       " 'eta1': <Hist (dataset,selection,eta1) instance at 0x7fe895f14ed0>,\n",
       " 'ptoverM1': <Hist (dataset,selection,ptoverM1) instance at 0x7fe895edb190>,\n",
       " 'pt2': <Hist (dataset,selection,pt2) instance at 0x7fe895dc3290>,\n",
       " 'eta2': <Hist (dataset,selection,eta2) instance at 0x7fe895dbbd90>,\n",
       " 'ptoverM2': <Hist (dataset,selection,ptoverM2) instance at 0x7fe89603c350>}"
      ]
     },
     "metadata": {},
     "output_type": "display_data"
    }
   ],
   "source": [
    "from coffea import util, hist\n",
    "import matplotlib.pyplot as plt\n",
    "infile = util.load(\"DataHistograms_2018SingleMuonHLTStudy_test.coffea\")\n",
    "display(\"1\",infile)\n",
    "h = infile[\"mjjj\"]"
   ]
  },
  {
   "cell_type": "code",
   "execution_count": 12,
   "metadata": {},
   "outputs": [
    {
     "data": {
      "text/plain": [
       "[<StringBin (JetHLT - presel) instance at 0x7fe89e667990>,\n",
       " <StringBin (pre-selection) instance at 0x7fe896022c10>]"
      ]
     },
     "metadata": {},
     "output_type": "display_data"
    },
    {
     "data": {
      "text/plain": [
       "[<StringBin (SingleMuon_Run2018C) instance at 0x7fe8960226d0>,\n",
       " <StringBin (SingleMuon_Run2018D) instance at 0x7fe896022410>]"
      ]
     },
     "metadata": {},
     "output_type": "display_data"
    }
   ],
   "source": [
    "display(h.axis(\"selection\").identifiers())\n",
    "display(h.axis(\"dataset\").identifiers())"
   ]
  },
  {
   "cell_type": "code",
   "execution_count": 13,
   "metadata": {},
   "outputs": [
    {
     "data": {
      "image/png": "[encoded data removed]",
      "text/plain": [
       "<Figure size 432x288 with 1 Axes>"
      ]
     },
     "metadata": {
      "needs_background": "light"
     },
     "output_type": "display_data"
    }
   ],
   "source": [
    "h_jetHLT = h.integrate(\"selection\",\"JetHLT - presel\").sum(\"dataset\")\n",
    "plot = hist.plot1d(h_jetHLT)\n",
    "plot.set_ylim(0.1,100000000)\n",
    "plot.set_yscale('log')"
   ]
  },
  {
   "cell_type": "code",
   "execution_count": 14,
   "metadata": {},
   "outputs": [
    {
     "data": {
      "image/png": "[encoded data removed]",
      "text/plain": [
       "<Figure size 432x288 with 1 Axes>"
      ]
     },
     "metadata": {
      "needs_background": "light"
     },
     "output_type": "display_data"
    }
   ],
   "source": [
    "h_presel = h.integrate(\"selection\",[\"pre-selection\"]).sum(\"dataset\")\n",
    "plot = hist.plot1d(h_presel)\n",
    "plot.set_ylim(0.1,100000000)\n",
    "plot.set_yscale('log')"
   ]
  },
  {
   "cell_type": "code",
   "execution_count": 15,
   "metadata": {
    "scrolled": true
   },
   "outputs": [
    {
     "data": {
      "text/plain": [
       "(0.0, 1.1)"
      ]
     },
     "execution_count": 15,
     "metadata": {},
     "output_type": "execute_result"
    },
    {
     "data": {
      "image/png": "[encoded data removed]",
      "text/plain": [
       "<Figure size 432x288 with 1 Axes>"
      ]
     },
     "metadata": {
      "needs_background": "light"
     },
     "output_type": "display_data"
    }
   ],
   "source": [
    "h_jetHLT.label = r'$\\epsilon$'\n",
    "ax = hist.plotratio(\n",
    "    num=h_jetHLT,\n",
    "    denom=h_presel,\n",
    "    error_opts={'color': 'k', 'marker': '.'},\n",
    "    unc='clopper-pearson'\n",
    ")\n",
    "ax.set_ylim(0, 1.1)"
   ]
  },
  {
   "cell_type": "code",
   "execution_count": null,
   "metadata": {},
   "outputs": [],
   "source": []
  }
 ],
 "metadata": {
  "kernelspec": {
   "display_name": "Python 3",
   "language": "python",
   "name": "python3"
  },
  "language_info": {
   "codemirror_mode": {
    "name": "ipython",
    "version": 3
   },
   "file_extension": ".py",
   "mimetype": "text/x-python",
   "name": "python",
   "nbconvert_exporter": "python",
   "pygments_lexer": "ipython3",
   "version": "3.7.9"
  }
 },
 "nbformat": 4,
 "nbformat_minor": 4
}
