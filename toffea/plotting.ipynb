{
 "cells": [
  {
   "cell_type": "code",
   "execution_count": 34,
   "metadata": {},
   "outputs": [
    {
     "data": {
      "text/plain": [
       "'1'"
      ]
     },
     "metadata": {},
     "output_type": "display_data"
    },
    {
     "data": {
      "text/plain": [
       "{'total_events': defaultdict_accumulator(int,\n",
       "                         {'SingleMuon_Run2018D': 5973686,\n",
       "                          'SingleMuon_Run2018C': 3896254}),\n",
       " 'mjjj': <Hist (dataset,selection,mjjj) instance at 0x7fb2e5288510>,\n",
       " 'm01': <Hist (dataset,selection,m01) instance at 0x7fb2e5300fd0>,\n",
       " 'dR01': <Hist (dataset,selection,dR01) instance at 0x7fb2e5436550>,\n",
       " 'dEta01': <Hist (dataset,selection,dEta01) instance at 0x7fb2e5436210>,\n",
       " 'm01overM': <Hist (dataset,selection,m01overM) instance at 0x7fb2e5436a10>,\n",
       " 'm12': <Hist (dataset,selection,m12) instance at 0x7fb2e5436d90>,\n",
       " 'dR12': <Hist (dataset,selection,dR12) instance at 0x7fb2e5436590>,\n",
       " 'dEta12': <Hist (dataset,selection,dEta12) instance at 0x7fb2e54363d0>,\n",
       " 'm12overM': <Hist (dataset,selection,m12overM) instance at 0x7fb2e5436d10>,\n",
       " 'm20': <Hist (dataset,selection,m20) instance at 0x7fb2e5436390>,\n",
       " 'dR20': <Hist (dataset,selection,dR20) instance at 0x7fb2e54367d0>,\n",
       " 'dEta20': <Hist (dataset,selection,dEta20) instance at 0x7fb2e54361d0>,\n",
       " 'm20overM': <Hist (dataset,selection,m20overM) instance at 0x7fb2e5451510>,\n",
       " 'pt0': <Hist (dataset,selection,pt0) instance at 0x7fb2e5451990>,\n",
       " 'eta0': <Hist (dataset,selection,eta0) instance at 0x7fb2e5451290>,\n",
       " 'ptoverM0': <Hist (dataset,selection,ptoverM0) instance at 0x7fb2e5451250>,\n",
       " 'pt1': <Hist (dataset,selection,pt1) instance at 0x7fb2e5451650>,\n",
       " 'eta1': <Hist (dataset,selection,eta1) instance at 0x7fb2e5451d90>,\n",
       " 'ptoverM1': <Hist (dataset,selection,ptoverM1) instance at 0x7fb2e5254cd0>,\n",
       " 'pt2': <Hist (dataset,selection,pt2) instance at 0x7fb2e5254c10>,\n",
       " 'eta2': <Hist (dataset,selection,eta2) instance at 0x7fb2e5254290>,\n",
       " 'ptoverM2': <Hist (dataset,selection,ptoverM2) instance at 0x7fb2e5254550>}"
      ]
     },
     "metadata": {},
     "output_type": "display_data"
    }
   ],
   "source": [
    "from coffea import util, hist\n",
    "import matplotlib.pyplot as plt\n",
    "infile = util.load(\"DataHistograms_test.coffea\")\n",
    "display(\"1\",infile)\n",
    "h = infile[\"mjjj\"]"
   ]
  },
  {
   "cell_type": "code",
   "execution_count": 35,
   "metadata": {},
   "outputs": [
    {
     "data": {
      "text/plain": [
       "[<StringBin (tight-selection) instance at 0x7fb2e5288ad0>]"
      ]
     },
     "metadata": {},
     "output_type": "display_data"
    },
    {
     "data": {
      "text/plain": [
       "[<StringBin (SingleMuon_Run2018C) instance at 0x7fb2e52888d0>,\n",
       " <StringBin (SingleMuon_Run2018D) instance at 0x7fb2e52886d0>]"
      ]
     },
     "metadata": {},
     "output_type": "display_data"
    }
   ],
   "source": [
    "display(h.axis(\"selection\").identifiers())\n",
    "display(h.axis(\"dataset\").identifiers())"
   ]
  },
  {
   "cell_type": "code",
   "execution_count": 71,
   "metadata": {},
   "outputs": [],
   "source": [
    "lumi = 41.53*1000\n",
    "weight_xsec = {\n",
    "    'QCD_Pt_300to470': lumi*6830/109308273,\n",
    "    'QCD_Pt_470to600': lumi*552.1/27791204,\n",
    "    'QCD_Pt_600to800': lumi*156.5/128469565,\n",
    "    'QCD_Pt_800to1000': lumi*26.28/77321674,\n",
    "    'QCD_Pt_1000to1400': lumi*7.47/35819797,\n",
    "    'QCD_Pt_1400to1800': lumi*0.6484/5667999,\n",
    "    'QCD_Pt_1800to2400': lumi*0.08743/2923940,\n",
    "    'QCD_Pt_2400to3200': lumi*0.005236/1910525,\n",
    "    'QCD_Pt_3200toInf': lumi*0.0001357/757837\n",
    "}\n",
    "h.scale(weight_xsec, axis='dataset')"
   ]
  },
  {
   "cell_type": "code",
   "execution_count": 29,
   "metadata": {},
   "outputs": [
    {
     "data": {
      "image/png": "[encoded data removed]",
      "text/plain": [
       "<Figure size 432x288 with 1 Axes>"
      ]
     },
     "metadata": {
      "needs_background": "light"
     },
     "output_type": "display_data"
    }
   ],
   "source": [
    "h_jetHLT = h.integrate(\"selection\",[\"JetHLT\"])\n",
    "plot = hist.plot1d(h_jetHLT, overlay=\"dataset\")\n",
    "plot.set_ylim(0.1,100000000)\n",
    "plot.set_yscale('log')"
   ]
  },
  {
   "cell_type": "code",
   "execution_count": 36,
   "metadata": {},
   "outputs": [
    {
     "data": {
      "image/png": "[encoded data removed]",
      "text/plain": [
       "<Figure size 432x288 with 1 Axes>"
      ]
     },
     "metadata": {
      "needs_background": "light"
     },
     "output_type": "display_data"
    }
   ],
   "source": [
    "h_plot = h.integrate(\"selection\",[\"tight-selection\"])\n",
    "plot = hist.plot1d(h_plot, overlay=\"dataset\")\n",
    "plot.set_ylim(0.1,100000000)\n",
    "plot.set_yscale('log')"
   ]
  },
  {
   "cell_type": "code",
   "execution_count": null,
   "metadata": {},
   "outputs": [],
   "source": []
  }
 ],
 "metadata": {
  "kernelspec": {
   "display_name": "Python 3",
   "language": "python",
   "name": "python3"
  },
  "language_info": {
   "codemirror_mode": {
    "name": "ipython",
    "version": 3
   },
   "file_extension": ".py",
   "mimetype": "text/x-python",
   "name": "python",
   "nbconvert_exporter": "python",
   "pygments_lexer": "ipython3",
   "version": "3.7.9"
  }
 },
 "nbformat": 4,
 "nbformat_minor": 4
}
